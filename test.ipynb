{
 "cells": [
  {
   "cell_type": "code",
   "execution_count": 1,
   "id": "8716cb72",
   "metadata": {},
   "outputs": [
    {
     "name": "stderr",
     "output_type": "stream",
     "text": [
      "Matplotlib is building the font cache; this may take a moment.\n"
     ]
    },
    {
     "name": "stdout",
     "output_type": "stream",
     "text": [
      "Python: 3.10.18 | packaged by conda-forge | (main, Jun  4 2025, 14:46:00) [Clang 18.1.8 ]\n",
      "NumPy: 1.26.4\n",
      "Pandas: 2.3.2\n",
      "PyTorch: 2.8.0\n",
      "TensorFlow: 2.16.2\n",
      "PyTorch MPS (M1 GPU) available: True\n",
      "TensorFlow GPU devices: [PhysicalDevice(name='/physical_device:GPU:0', device_type='GPU')]\n",
      "PyTorch tensor on MPS device:\n",
      "tensor([[0.8879, 0.4145, 0.5073, 0.5723, 0.5297],\n",
      "        [0.2908, 0.7217, 0.7791, 0.7322, 0.1785],\n",
      "        [0.1784, 0.3573, 0.1417, 0.5229, 0.6028],\n",
      "        [0.5463, 0.1626, 0.0943, 0.4713, 0.0569],\n",
      "        [0.4687, 0.2226, 0.6900, 0.9795, 0.7867]], device='mps:0')\n"
     ]
    }
   ],
   "source": [
    "import sys\n",
    "import numpy as np\n",
    "import pandas as pd\n",
    "import matplotlib.pyplot as plt\n",
    "import torch\n",
    "import tensorflow as tf\n",
    "\n",
    "# Print versions\n",
    "print(f\"Python: {sys.version}\")\n",
    "print(f\"NumPy: {np.__version__}\")\n",
    "print(f\"Pandas: {pd.__version__}\")\n",
    "print(f\"PyTorch: {torch.__version__}\")\n",
    "print(f\"TensorFlow: {tf.__version__}\")\n",
    "\n",
    "# Check GPU availability\n",
    "print(f\"PyTorch MPS (M1 GPU) available: {torch.backends.mps.is_available()}\")\n",
    "print(f\"TensorFlow GPU devices: {tf.config.list_physical_devices('GPU')}\")\n",
    "\n",
    "# Simple PyTorch test on MPS (M1 GPU)\n",
    "if torch.backends.mps.is_available():\n",
    "    device = torch.device(\"mps\")\n",
    "    x = torch.rand(5, 5).to(device)\n",
    "    print(f\"PyTorch tensor on MPS device:\\n{x}\")"
   ]
  },
  {
   "cell_type": "code",
   "execution_count": 3,
   "id": "e78cad8d",
   "metadata": {},
   "outputs": [
    {
     "name": "stdout",
     "output_type": "stream",
     "text": [
      "Hello, Kalina!\n"
     ]
    }
   ],
   "source": [
    "print(\"Hello, Kalina!\")"
   ]
  },
  {
   "cell_type": "code",
   "execution_count": null,
   "id": "e493f4ec",
   "metadata": {},
   "outputs": [],
   "source": []
  }
 ],
 "metadata": {
  "kernelspec": {
   "display_name": "ai",
   "language": "python",
   "name": "python3"
  },
  "language_info": {
   "codemirror_mode": {
    "name": "ipython",
    "version": 3
   },
   "file_extension": ".py",
   "mimetype": "text/x-python",
   "name": "python",
   "nbconvert_exporter": "python",
   "pygments_lexer": "ipython3",
   "version": "3.10.18"
  }
 },
 "nbformat": 4,
 "nbformat_minor": 5
}
